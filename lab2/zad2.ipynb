{
 "cells": [
  {
   "cell_type": "code",
   "execution_count": 75,
   "metadata": {},
   "outputs": [],
   "source": [
    "import pygad\n",
    "import time\n",
    "import numpy"
   ]
  },
  {
   "cell_type": "code",
   "execution_count": 76,
   "metadata": {},
   "outputs": [],
   "source": [
    "items = [{'item': 'zegar', 'value': 100, 'weight': 7},\n",
    "         {'item': 'obraz-pejzaż', 'value': 300, 'weight': 7},\n",
    "         {'item': 'obraz-portret', 'value': 200, 'weight': 6},\n",
    "         {'item': 'radio', 'value': 40, 'weight': 2},\n",
    "         {'item': 'laptop', 'value': 500, 'weight': 5},\n",
    "         {'item': 'lampka nocna', 'value': 70, 'weight': 6},\n",
    "         {'item': 'srebrne sztućce', 'value': 100, 'weight': 1},\n",
    "         {'item': 'porcelana', 'value': 250, 'weight': 3},\n",
    "         {'item': 'figura z brązu', 'value': 300, 'weight': 10},\n",
    "         {'item': 'skórzana torebka', 'value': 280, 'weight': 3},\n",
    "         {'item': 'odkurzacz', 'value': 300, 'weight': 15}] \n"
   ]
  },
  {
   "cell_type": "code",
   "execution_count": 77,
   "metadata": {},
   "outputs": [],
   "source": [
    "gene_space = [0, 1]\n",
    "\n",
    "def fitness_func(solution, solution_idx):\n",
    "    value_sum = 0\n",
    "    weight_sum = 0\n",
    "    for count, i in enumerate(solution):\n",
    "        if i != 0:\n",
    "            value_sum = value_sum + items[count][\"value\"]\n",
    "            weight_sum = weight_sum + items[count][\"weight\"]\n",
    "    if weight_sum > 25:\n",
    "        return 0\n",
    "    return value_sum\n",
    "\n",
    "\n",
    "fitness_function = fitness_func"
   ]
  },
  {
   "cell_type": "code",
   "execution_count": 78,
   "metadata": {},
   "outputs": [],
   "source": [
    "sol_per_pop = 20\n",
    "num_genes = len(items)\n",
    "\n",
    "# ile wylaniamy rodzicow do \"rozmanazania\" (okolo 50% populacji)\n",
    "# ile pokolen\n",
    "# ilu rodzicow zachowac (kilka procent)\n",
    "num_parents_mating = 5\n",
    "num_generations = 100\n",
    "keep_parents = 2\n",
    "\n",
    "# jaki typ selekcji rodzicow?\n",
    "# sss = steady, rws=roulette, rank = rankingowa, tournament = turniejowa\n",
    "parent_selection_type = \"sss\"\n",
    "\n",
    "# w il =u punktach robic krzyzowanie?\n",
    "crossover_type = \"single_point\"\n",
    "\n",
    "# mutacja ma dzialac na ilu procent genow?\n",
    "# trzeba pamietac ile genow ma chromosom\n",
    "mutation_type = \"random\"\n",
    "mutation_percent_genes = 8"
   ]
  },
  {
   "cell_type": "code",
   "execution_count": 79,
   "metadata": {},
   "outputs": [
    {
     "name": "stderr",
     "output_type": "stream",
     "text": [
      "/home/piotr/.local/lib/python3.10/site-packages/pygad/pygad.py:522: UserWarning: The percentage of genes to mutate (mutation_percent_genes=8) resutled in selecting (0) genes. The number of genes to mutate is set to 1 (mutation_num_genes=1).\n",
      "If you do not want to mutate any gene, please set mutation_type=None.\n",
      "  if not self.suppress_warnings: warnings.warn(\"The percentage of genes to mutate (mutation_percent_genes={mutation_percent}) resutled in selecting ({mutation_num}) genes. The number of genes to mutate is set to 1 (mutation_num_genes=1).\\nIf you do not want to mutate any gene, please set mutation_type=None.\".format(mutation_percent=mutation_percent_genes, mutation_num=mutation_num_genes))\n"
     ]
    }
   ],
   "source": [
    "timer = []\n",
    "for i in range(10):\n",
    "    start = time.time()\n",
    "    ga_instance = pygad.GA(gene_space=gene_space,\n",
    "                        num_generations=num_generations,\n",
    "                        num_parents_mating=num_parents_mating,\n",
    "                        fitness_func=fitness_function,\n",
    "                        sol_per_pop=sol_per_pop,\n",
    "                        num_genes=num_genes,\n",
    "                        parent_selection_type=parent_selection_type,\n",
    "                        keep_parents=keep_parents,\n",
    "                        crossover_type=crossover_type,\n",
    "                        mutation_type=mutation_type,\n",
    "                        mutation_percent_genes=mutation_percent_genes,\n",
    "                        stop_criteria=[\"reach_1600\"])\n",
    "    ga_instance.run()\n",
    "    end = time.time()\n",
    "    timer.append({\"generations\": ga_instance.generations_completed, \"time\": end - start})\n",
    "\n"
   ]
  },
  {
   "cell_type": "code",
   "execution_count": 80,
   "metadata": {},
   "outputs": [
    {
     "name": "stdout",
     "output_type": "stream",
     "text": [
      "[{'generations': 19, 'time': 0.014740705490112305}, {'generations': 9, 'time': 0.006938934326171875}, {'generations': 9, 'time': 0.0056056976318359375}, {'generations': 8, 'time': 0.004660606384277344}, {'generations': 8, 'time': 0.005612850189208984}, {'generations': 1, 'time': 0.0008001327514648438}, {'generations': 10, 'time': 0.006342649459838867}, {'generations': 6, 'time': 0.003654003143310547}, {'generations': 45, 'time': 0.026618003845214844}, {'generations': 2, 'time': 0.001194000244140625}]\n",
      "Average time:  0.007616758346557617\n"
     ]
    }
   ],
   "source": [
    "print(timer)\n",
    "average = 0\n",
    "for i in timer:\n",
    "    average += i[\"time\"]\n",
    "average = average/len(timer)\n",
    "print(\"Average time: \", average)"
   ]
  }
 ],
 "metadata": {
  "kernelspec": {
   "display_name": "Python 3",
   "language": "python",
   "name": "python3"
  },
  "language_info": {
   "codemirror_mode": {
    "name": "ipython",
    "version": 3
   },
   "file_extension": ".py",
   "mimetype": "text/x-python",
   "name": "python",
   "nbconvert_exporter": "python",
   "pygments_lexer": "ipython3",
   "version": "3.10.9"
  },
  "orig_nbformat": 4,
  "vscode": {
   "interpreter": {
    "hash": "e7370f93d1d0cde622a1f8e1c04877d8463912d04d973331ad4851f04de6915a"
   }
  }
 },
 "nbformat": 4,
 "nbformat_minor": 2
}
