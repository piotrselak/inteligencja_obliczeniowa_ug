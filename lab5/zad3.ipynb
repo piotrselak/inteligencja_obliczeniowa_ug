{
 "cells": [
  {
   "cell_type": "code",
   "execution_count": 19,
   "metadata": {},
   "outputs": [],
   "source": [
    "import pandas as pd\n",
    "import numpy as np\n",
    "from sklearn.model_selection import train_test_split\n",
    "from sklearn import tree"
   ]
  },
  {
   "cell_type": "code",
   "execution_count": 4,
   "metadata": {},
   "outputs": [
    {
     "data": {
      "text/html": [
       "<div>\n",
       "<style scoped>\n",
       "    .dataframe tbody tr th:only-of-type {\n",
       "        vertical-align: middle;\n",
       "    }\n",
       "\n",
       "    .dataframe tbody tr th {\n",
       "        vertical-align: top;\n",
       "    }\n",
       "\n",
       "    .dataframe thead th {\n",
       "        text-align: right;\n",
       "    }\n",
       "</style>\n",
       "<table border=\"1\" class=\"dataframe\">\n",
       "  <thead>\n",
       "    <tr style=\"text-align: right;\">\n",
       "      <th></th>\n",
       "      <th>sepal.length</th>\n",
       "      <th>sepal.width</th>\n",
       "      <th>petal.length</th>\n",
       "      <th>petal.width</th>\n",
       "      <th>species</th>\n",
       "    </tr>\n",
       "  </thead>\n",
       "  <tbody>\n",
       "    <tr>\n",
       "      <th>0</th>\n",
       "      <td>5.1</td>\n",
       "      <td>3.5</td>\n",
       "      <td>1.4</td>\n",
       "      <td>0.2</td>\n",
       "      <td>setosa</td>\n",
       "    </tr>\n",
       "    <tr>\n",
       "      <th>1</th>\n",
       "      <td>4.9</td>\n",
       "      <td>3.0</td>\n",
       "      <td>1.4</td>\n",
       "      <td>0.2</td>\n",
       "      <td>setosa</td>\n",
       "    </tr>\n",
       "    <tr>\n",
       "      <th>2</th>\n",
       "      <td>4.7</td>\n",
       "      <td>3.2</td>\n",
       "      <td>1.3</td>\n",
       "      <td>0.2</td>\n",
       "      <td>setosa</td>\n",
       "    </tr>\n",
       "    <tr>\n",
       "      <th>3</th>\n",
       "      <td>4.6</td>\n",
       "      <td>3.1</td>\n",
       "      <td>1.5</td>\n",
       "      <td>0.2</td>\n",
       "      <td>setosa</td>\n",
       "    </tr>\n",
       "    <tr>\n",
       "      <th>4</th>\n",
       "      <td>5.0</td>\n",
       "      <td>3.6</td>\n",
       "      <td>1.4</td>\n",
       "      <td>0.2</td>\n",
       "      <td>setosa</td>\n",
       "    </tr>\n",
       "    <tr>\n",
       "      <th>...</th>\n",
       "      <td>...</td>\n",
       "      <td>...</td>\n",
       "      <td>...</td>\n",
       "      <td>...</td>\n",
       "      <td>...</td>\n",
       "    </tr>\n",
       "    <tr>\n",
       "      <th>145</th>\n",
       "      <td>6.7</td>\n",
       "      <td>3.0</td>\n",
       "      <td>5.2</td>\n",
       "      <td>2.3</td>\n",
       "      <td>virginica</td>\n",
       "    </tr>\n",
       "    <tr>\n",
       "      <th>146</th>\n",
       "      <td>6.3</td>\n",
       "      <td>2.5</td>\n",
       "      <td>5.0</td>\n",
       "      <td>1.9</td>\n",
       "      <td>virginica</td>\n",
       "    </tr>\n",
       "    <tr>\n",
       "      <th>147</th>\n",
       "      <td>6.5</td>\n",
       "      <td>3.0</td>\n",
       "      <td>5.2</td>\n",
       "      <td>2.0</td>\n",
       "      <td>virginica</td>\n",
       "    </tr>\n",
       "    <tr>\n",
       "      <th>148</th>\n",
       "      <td>6.2</td>\n",
       "      <td>3.4</td>\n",
       "      <td>5.4</td>\n",
       "      <td>2.3</td>\n",
       "      <td>virginica</td>\n",
       "    </tr>\n",
       "    <tr>\n",
       "      <th>149</th>\n",
       "      <td>5.9</td>\n",
       "      <td>3.0</td>\n",
       "      <td>5.1</td>\n",
       "      <td>1.8</td>\n",
       "      <td>virginica</td>\n",
       "    </tr>\n",
       "  </tbody>\n",
       "</table>\n",
       "<p>150 rows × 5 columns</p>\n",
       "</div>"
      ],
      "text/plain": [
       "     sepal.length  sepal.width  petal.length  petal.width    species\n",
       "0             5.1          3.5           1.4          0.2     setosa\n",
       "1             4.9          3.0           1.4          0.2     setosa\n",
       "2             4.7          3.2           1.3          0.2     setosa\n",
       "3             4.6          3.1           1.5          0.2     setosa\n",
       "4             5.0          3.6           1.4          0.2     setosa\n",
       "..            ...          ...           ...          ...        ...\n",
       "145           6.7          3.0           5.2          2.3  virginica\n",
       "146           6.3          2.5           5.0          1.9  virginica\n",
       "147           6.5          3.0           5.2          2.0  virginica\n",
       "148           6.2          3.4           5.4          2.3  virginica\n",
       "149           5.9          3.0           5.1          1.8  virginica\n",
       "\n",
       "[150 rows x 5 columns]"
      ]
     },
     "execution_count": 4,
     "metadata": {},
     "output_type": "execute_result"
    }
   ],
   "source": [
    "df = pd.read_csv(\"iris.csv\")\n",
    "df"
   ]
  },
  {
   "cell_type": "code",
   "execution_count": 9,
   "metadata": {},
   "outputs": [
    {
     "name": "stdout",
     "output_type": "stream",
     "text": [
      "[[5.2 4.1 1.5 0.1 'setosa']\n",
      " [6.9 3.1 4.9 1.5 'versicolor']\n",
      " [5.9 3.2 4.8 1.8 'versicolor']\n",
      " [5.6 2.8 4.9 2.0 'virginica']\n",
      " [6.7 3.3 5.7 2.5 'virginica']\n",
      " [6.2 2.2 4.5 1.5 'versicolor']\n",
      " [7.2 3.6 6.1 2.5 'virginica']\n",
      " [5.5 2.4 3.7 1.0 'versicolor']\n",
      " [6.0 2.9 4.5 1.5 'versicolor']\n",
      " [6.4 3.2 4.5 1.5 'versicolor']\n",
      " [5.8 4.0 1.2 0.2 'setosa']\n",
      " [5.3 3.7 1.5 0.2 'setosa']\n",
      " [6.1 2.9 4.7 1.4 'versicolor']\n",
      " [5.4 3.4 1.7 0.2 'setosa']\n",
      " [6.4 3.1 5.5 1.8 'virginica']\n",
      " [4.7 3.2 1.6 0.2 'setosa']\n",
      " [4.6 3.1 1.5 0.2 'setosa']\n",
      " [4.9 2.5 4.5 1.7 'virginica']\n",
      " [5.1 2.5 3.0 1.1 'versicolor']\n",
      " [6.7 3.1 5.6 2.4 'virginica']\n",
      " [4.9 3.1 1.5 0.1 'setosa']\n",
      " [6.9 3.1 5.4 2.1 'virginica']\n",
      " [4.8 3.0 1.4 0.3 'setosa']\n",
      " [5.8 2.7 3.9 1.2 'versicolor']\n",
      " [6.0 2.7 5.1 1.6 'versicolor']\n",
      " [4.4 3.2 1.3 0.2 'setosa']\n",
      " [6.8 3.2 5.9 2.3 'virginica']\n",
      " [7.9 3.8 6.4 2.0 'virginica']\n",
      " [6.5 3.0 5.5 1.8 'virginica']\n",
      " [7.6 3.0 6.6 2.1 'virginica']\n",
      " [6.3 2.8 5.1 1.5 'virginica']\n",
      " [4.6 3.4 1.4 0.3 'setosa']\n",
      " [5.7 2.6 3.5 1.0 'versicolor']\n",
      " [6.7 2.5 5.8 1.8 'virginica']\n",
      " [5.7 2.8 4.1 1.3 'versicolor']\n",
      " [4.9 3.1 1.5 0.1 'setosa']\n",
      " [6.4 2.8 5.6 2.1 'virginica']\n",
      " [7.0 3.2 4.7 1.4 'versicolor']\n",
      " [5.7 2.9 4.2 1.3 'versicolor']\n",
      " [5.0 3.6 1.4 0.2 'setosa']\n",
      " [5.4 3.9 1.7 0.4 'setosa']\n",
      " [5.1 3.8 1.9 0.4 'setosa']\n",
      " [5.4 3.0 4.5 1.5 'versicolor']\n",
      " [7.4 2.8 6.1 1.9 'virginica']\n",
      " [6.3 2.9 5.6 1.8 'virginica']\n",
      " [6.6 3.0 4.4 1.4 'versicolor']\n",
      " [5.0 3.4 1.5 0.2 'setosa']\n",
      " [5.1 3.8 1.6 0.2 'setosa']\n",
      " [5.1 3.5 1.4 0.3 'setosa']\n",
      " [6.5 3.0 5.8 2.2 'virginica']\n",
      " [5.8 2.7 5.1 1.9 'virginica']\n",
      " [6.1 2.8 4.0 1.3 'versicolor']\n",
      " [5.5 2.4 3.8 1.1 'versicolor']\n",
      " [6.5 3.2 5.1 2.0 'virginica']\n",
      " [6.5 3.0 5.2 2.0 'virginica']\n",
      " [5.9 3.0 5.1 1.8 'virginica']\n",
      " [6.1 2.6 5.6 1.4 'virginica']\n",
      " [6.4 2.9 4.3 1.3 'versicolor']\n",
      " [5.2 3.4 1.4 0.2 'setosa']\n",
      " [4.8 3.4 1.6 0.2 'setosa']\n",
      " [5.6 2.7 4.2 1.3 'versicolor']\n",
      " [5.1 3.3 1.7 0.5 'setosa']\n",
      " [4.6 3.6 1.0 0.2 'setosa']\n",
      " [6.1 3.0 4.9 1.8 'virginica']\n",
      " [5.0 2.3 3.3 1.0 'versicolor']\n",
      " [5.7 3.8 1.7 0.3 'setosa']\n",
      " [5.2 3.5 1.5 0.2 'setosa']\n",
      " [5.5 3.5 1.3 0.2 'setosa']\n",
      " [4.9 2.4 3.3 1.0 'versicolor']\n",
      " [5.4 3.4 1.5 0.4 'setosa']\n",
      " [6.7 3.1 4.4 1.4 'versicolor']\n",
      " [4.8 3.0 1.4 0.1 'setosa']\n",
      " [5.5 2.5 4.0 1.3 'versicolor']\n",
      " [6.0 2.2 5.0 1.5 'virginica']\n",
      " [4.8 3.1 1.6 0.2 'setosa']\n",
      " [6.7 3.1 4.7 1.5 'versicolor']\n",
      " [5.8 2.6 4.0 1.2 'versicolor']\n",
      " [6.2 3.4 5.4 2.3 'virginica']\n",
      " [5.0 3.0 1.6 0.2 'setosa']\n",
      " [6.0 3.0 4.8 1.8 'virginica']\n",
      " [4.3 3.0 1.1 0.1 'setosa']\n",
      " [5.6 2.5 3.9 1.1 'versicolor']\n",
      " [6.7 3.0 5.0 1.7 'versicolor']\n",
      " [7.7 3.0 6.1 2.3 'virginica']\n",
      " [6.3 3.4 5.6 2.4 'virginica']\n",
      " [5.5 4.2 1.4 0.2 'setosa']\n",
      " [6.0 2.2 4.0 1.0 'versicolor']\n",
      " [7.7 2.8 6.7 2.0 'virginica']\n",
      " [7.3 2.9 6.3 1.8 'virginica']\n",
      " [5.6 3.0 4.1 1.3 'versicolor']\n",
      " [6.5 2.8 4.6 1.5 'versicolor']\n",
      " [6.3 3.3 6.0 2.5 'virginica']\n",
      " [5.4 3.9 1.3 0.4 'setosa']\n",
      " [6.4 3.2 5.3 2.3 'virginica']\n",
      " [5.0 3.5 1.3 0.3 'setosa']\n",
      " [5.1 3.5 1.4 0.2 'setosa']\n",
      " [6.1 2.8 4.7 1.2 'versicolor']\n",
      " [4.4 2.9 1.4 0.2 'setosa']\n",
      " [6.7 3.0 5.2 2.3 'virginica']\n",
      " [6.3 2.7 4.9 1.8 'virginica']\n",
      " [5.7 2.5 5.0 2.0 'virginica']\n",
      " [5.6 2.9 3.6 1.3 'versicolor']\n",
      " [5.7 4.4 1.5 0.4 'setosa']\n",
      " [7.2 3.2 6.0 1.8 'virginica']\n",
      " [4.9 3.1 1.5 0.1 'setosa']]\n",
      "105\n"
     ]
    }
   ],
   "source": [
    "(train_set, test_set) = train_test_split(df.values, train_size=0.7, random_state=10)\n",
    "print(train_set)\n",
    "print(len(train_set))"
   ]
  },
  {
   "cell_type": "code",
   "execution_count": 8,
   "metadata": {},
   "outputs": [
    {
     "name": "stdout",
     "output_type": "stream",
     "text": [
      "[[6.3 2.3 4.4 1.3 'versicolor']\n",
      " [6.4 2.7 5.3 1.9 'virginica']\n",
      " [5.4 3.7 1.5 0.2 'setosa']\n",
      " [6.1 3.0 4.6 1.4 'versicolor']\n",
      " [5.0 3.3 1.4 0.2 'setosa']\n",
      " [5.0 2.0 3.5 1.0 'versicolor']\n",
      " [6.3 2.5 4.9 1.5 'versicolor']\n",
      " [5.8 2.7 4.1 1.0 'versicolor']\n",
      " [5.1 3.4 1.5 0.2 'setosa']\n",
      " [5.7 2.8 4.5 1.3 'versicolor']\n",
      " [5.6 3.0 4.5 1.5 'versicolor']\n",
      " [5.8 2.7 5.1 1.9 'virginica']\n",
      " [5.5 2.3 4.0 1.3 'versicolor']\n",
      " [4.9 3.0 1.4 0.2 'setosa']\n",
      " [5.1 3.8 1.5 0.3 'setosa']\n",
      " [6.8 3.0 5.5 2.1 'virginica']\n",
      " [6.0 3.4 4.5 1.6 'versicolor']\n",
      " [4.4 3.0 1.3 0.2 'setosa']\n",
      " [5.1 3.7 1.5 0.4 'setosa']\n",
      " [5.0 3.2 1.2 0.2 'setosa']\n",
      " [7.1 3.0 5.9 2.1 'virginica']\n",
      " [6.4 2.8 5.6 2.2 'virginica']\n",
      " [6.2 2.8 4.8 1.8 'virginica']\n",
      " [4.8 3.4 1.9 0.2 'setosa']\n",
      " [5.9 3.0 4.2 1.5 'versicolor']\n",
      " [4.7 3.2 1.3 0.2 'setosa']\n",
      " [5.7 3.0 4.2 1.2 'versicolor']\n",
      " [5.5 2.6 4.4 1.2 'versicolor']\n",
      " [6.8 2.8 4.8 1.4 'versicolor']\n",
      " [7.7 3.8 6.7 2.2 'virginica']\n",
      " [6.6 2.9 4.6 1.3 'versicolor']\n",
      " [6.2 2.9 4.3 1.3 'versicolor']\n",
      " [7.2 3.0 5.8 1.6 'virginica']\n",
      " [5.8 2.8 5.1 2.4 'virginica']\n",
      " [6.3 2.5 5.0 1.9 'virginica']\n",
      " [4.6 3.2 1.4 0.2 'setosa']\n",
      " [6.7 3.3 5.7 2.1 'virginica']\n",
      " [6.9 3.2 5.7 2.3 'virginica']\n",
      " [7.7 2.6 6.9 2.3 'virginica']\n",
      " [6.9 3.1 5.1 2.3 'virginica']\n",
      " [5.0 3.4 1.6 0.4 'setosa']\n",
      " [5.0 3.5 1.6 0.6 'setosa']\n",
      " [5.2 2.7 3.9 1.4 'versicolor']\n",
      " [4.5 2.3 1.3 0.3 'setosa']\n",
      " [6.3 3.3 4.7 1.6 'versicolor']]\n",
      "45\n"
     ]
    }
   ],
   "source": [
    "print(test_set)\n",
    "print(len(test_set))"
   ]
  },
  {
   "cell_type": "code",
   "execution_count": 26,
   "metadata": {},
   "outputs": [],
   "source": [
    "train_input = list(map(lambda x: x[:-1], train_set))\n",
    "train_label = list(map(lambda x: x[4], train_set))"
   ]
  },
  {
   "cell_type": "code",
   "execution_count": 27,
   "metadata": {},
   "outputs": [],
   "source": [
    "clf = tree.DecisionTreeClassifier()\n",
    "clf = clf.fit(train_input, train_label)"
   ]
  },
  {
   "cell_type": "code",
   "execution_count": 28,
   "metadata": {},
   "outputs": [
    {
     "data": {
      "text/plain": [
       "[Text(0.5, 0.9, 'x[2] <= 2.45\\ngini = 0.666\\nsamples = 105\\nvalue = [36, 33, 36]'),\n",
       " Text(0.4230769230769231, 0.7, 'gini = 0.0\\nsamples = 36\\nvalue = [36, 0, 0]'),\n",
       " Text(0.5769230769230769, 0.7, 'x[3] <= 1.75\\ngini = 0.499\\nsamples = 69\\nvalue = [0, 33, 36]'),\n",
       " Text(0.3076923076923077, 0.5, 'x[2] <= 4.95\\ngini = 0.198\\nsamples = 36\\nvalue = [0, 32, 4]'),\n",
       " Text(0.15384615384615385, 0.3, 'x[3] <= 1.6\\ngini = 0.062\\nsamples = 31\\nvalue = [0, 30, 1]'),\n",
       " Text(0.07692307692307693, 0.1, 'gini = 0.0\\nsamples = 30\\nvalue = [0, 30, 0]'),\n",
       " Text(0.23076923076923078, 0.1, 'gini = 0.0\\nsamples = 1\\nvalue = [0, 0, 1]'),\n",
       " Text(0.46153846153846156, 0.3, 'x[3] <= 1.55\\ngini = 0.48\\nsamples = 5\\nvalue = [0, 2, 3]'),\n",
       " Text(0.38461538461538464, 0.1, 'gini = 0.0\\nsamples = 3\\nvalue = [0, 0, 3]'),\n",
       " Text(0.5384615384615384, 0.1, 'gini = 0.0\\nsamples = 2\\nvalue = [0, 2, 0]'),\n",
       " Text(0.8461538461538461, 0.5, 'x[2] <= 4.85\\ngini = 0.059\\nsamples = 33\\nvalue = [0, 1, 32]'),\n",
       " Text(0.7692307692307693, 0.3, 'x[1] <= 3.1\\ngini = 0.5\\nsamples = 2\\nvalue = [0, 1, 1]'),\n",
       " Text(0.6923076923076923, 0.1, 'gini = 0.0\\nsamples = 1\\nvalue = [0, 0, 1]'),\n",
       " Text(0.8461538461538461, 0.1, 'gini = 0.0\\nsamples = 1\\nvalue = [0, 1, 0]'),\n",
       " Text(0.9230769230769231, 0.3, 'gini = 0.0\\nsamples = 31\\nvalue = [0, 0, 31]')]"
      ]
     },
     "execution_count": 28,
     "metadata": {},
     "output_type": "execute_result"
    },
    {
     "data": {
      "image/png": "[encoded data removed]",
      "text/plain": [
       "<Figure size 640x480 with 1 Axes>"
      ]
     },
     "metadata": {},
     "output_type": "display_data"
    }
   ],
   "source": [
    "tree.plot_tree(clf)"
   ]
  },
  {
   "cell_type": "code",
   "execution_count": 30,
   "metadata": {},
   "outputs": [
    {
     "name": "stdout",
     "output_type": "stream",
     "text": [
      "44 0.9777777777777777\n"
     ]
    }
   ],
   "source": [
    "test_input = list(map(lambda x: x[:-1], test_set))\n",
    "test_label = list(map(lambda x: x[4], test_set))\n",
    "results = list(clf.predict(test_input))\n",
    "\n",
    "counter = 0\n",
    "for i, j in zip(test_label, results):\n",
    "    if i == j:\n",
    "        counter += 1\n",
    "print(counter, counter/len(results))"
   ]
  },
  {
   "cell_type": "code",
   "execution_count": 31,
   "metadata": {},
   "outputs": [
    {
     "data": {
      "text/plain": [
       "array([[13,  0,  1],\n",
       "       [ 0, 14,  0],\n",
       "       [ 0,  0, 17]])"
      ]
     },
     "execution_count": 31,
     "metadata": {},
     "output_type": "execute_result"
    }
   ],
   "source": [
    "from sklearn.metrics import confusion_matrix\n",
    "confusion_matrix(test_label, results, labels=[\"virginica\", \"setosa\", \"versicolor\"])\n"
   ]
  }
 ],
 "metadata": {
  "kernelspec": {
   "display_name": "Python 3",
   "language": "python",
   "name": "python3"
  },
  "language_info": {
   "codemirror_mode": {
    "name": "ipython",
    "version": 3
   },
   "file_extension": ".py",
   "mimetype": "text/x-python",
   "name": "python",
   "nbconvert_exporter": "python",
   "pygments_lexer": "ipython3",
   "version": "3.10.9"
  },
  "orig_nbformat": 4
 },
 "nbformat": 4,
 "nbformat_minor": 2
}
